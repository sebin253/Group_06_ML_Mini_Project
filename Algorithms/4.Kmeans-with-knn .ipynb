{
  "metadata": {
    "language_info": {
      "codemirror_mode": {
        "name": "python",
        "version": 3
      },
      "file_extension": ".py",
      "mimetype": "text/x-python",
      "name": "python",
      "nbconvert_exporter": "python",
      "pygments_lexer": "ipython3",
      "version": "3.8"
    },
    "kernelspec": {
      "name": "python",
      "display_name": "Python (Pyodide)",
      "language": "python"
    }
  },
  "nbformat_minor": 4,
  "nbformat": 4,
  "cells": [
    {
      "cell_type": "code",
      "source": "import pandas as pd\nfrom sklearn.cluster import KMeans\nfrom sklearn.model_selection import train_test_split\nfrom sklearn.neighbors import KNeighborsClassifier\nfrom sklearn.metrics import accuracy_score, classification_report\nfrom sklearn.preprocessing import StandardScaler\nfrom sklearn.preprocessing import LabelEncoder\nimport matplotlib.pyplot as plt",
      "metadata": {
        "trusted": true
      },
      "execution_count": 20,
      "outputs": []
    },
    {
      "cell_type": "code",
      "source": "train_data = pd.read_csv(r\"test.csv\")\ntest_data = pd.read_csv(r\"train.csv\")",
      "metadata": {
        "trusted": true
      },
      "execution_count": 21,
      "outputs": []
    },
    {
      "cell_type": "code",
      "source": "train_data.head()",
      "metadata": {
        "trusted": true
      },
      "execution_count": 22,
      "outputs": [
        {
          "execution_count": 22,
          "output_type": "execute_result",
          "data": {
            "text/plain": "   tBodyAcc-mean()-X  tBodyAcc-mean()-Y  tBodyAcc-mean()-Z  tBodyAcc-std()-X  \\\n0           0.257178          -0.023285          -0.014654         -0.938404   \n1           0.286027          -0.013163          -0.119083         -0.975415   \n2           0.275485          -0.026050          -0.118152         -0.993819   \n3           0.270298          -0.032614          -0.117520         -0.994743   \n4           0.274833          -0.027848          -0.129527         -0.993852   \n\n   tBodyAcc-std()-Y  tBodyAcc-std()-Z  tBodyAcc-mad()-X  tBodyAcc-mad()-Y  \\\n0         -0.920091         -0.667683         -0.952501         -0.925249   \n1         -0.967458         -0.944958         -0.986799         -0.968401   \n2         -0.969926         -0.962748         -0.994403         -0.970735   \n3         -0.973268         -0.967091         -0.995274         -0.974471   \n4         -0.967445         -0.978295         -0.994111         -0.965953   \n\n   tBodyAcc-mad()-Z  tBodyAcc-max()-X  ...  fBodyBodyGyroJerkMag-kurtosis()  \\\n0         -0.674302         -0.894088  ...                        -0.705974   \n1         -0.945823         -0.894088  ...                        -0.594944   \n2         -0.963483         -0.939260  ...                        -0.640736   \n3         -0.968897         -0.938610  ...                        -0.736124   \n4         -0.977346         -0.938610  ...                        -0.846595   \n\n   angle(tBodyAccMean,gravity)  angle(tBodyAccJerkMean),gravityMean)  \\\n0                     0.006462                              0.162920   \n1                    -0.083495                              0.017500   \n2                    -0.034956                              0.202302   \n3                    -0.017067                              0.154438   \n4                    -0.002223                             -0.040046   \n\n   angle(tBodyGyroMean,gravityMean)  angle(tBodyGyroJerkMean,gravityMean)  \\\n0                         -0.825886                              0.271151   \n1                         -0.434375                              0.920593   \n2                          0.064103                              0.145068   \n3                          0.340134                              0.296407   \n4                          0.736715                             -0.118545   \n\n   angle(X,gravityMean)  angle(Y,gravityMean)  angle(Z,gravityMean)  subject  \\\n0             -0.720009              0.276801             -0.057978        2   \n1             -0.698091              0.281343             -0.083898        2   \n2             -0.702771              0.280083             -0.079346        2   \n3             -0.698954              0.284114             -0.077108        2   \n4             -0.692245              0.290722             -0.073857        2   \n\n   Activity  \n0  STANDING  \n1  STANDING  \n2  STANDING  \n3  STANDING  \n4  STANDING  \n\n[5 rows x 563 columns]",
            "text/html": "<div>\n<style scoped>\n    .dataframe tbody tr th:only-of-type {\n        vertical-align: middle;\n    }\n\n    .dataframe tbody tr th {\n        vertical-align: top;\n    }\n\n    .dataframe thead th {\n        text-align: right;\n    }\n</style>\n<table border=\"1\" class=\"dataframe\">\n  <thead>\n    <tr style=\"text-align: right;\">\n      <th></th>\n      <th>tBodyAcc-mean()-X</th>\n      <th>tBodyAcc-mean()-Y</th>\n      <th>tBodyAcc-mean()-Z</th>\n      <th>tBodyAcc-std()-X</th>\n      <th>tBodyAcc-std()-Y</th>\n      <th>tBodyAcc-std()-Z</th>\n      <th>tBodyAcc-mad()-X</th>\n      <th>tBodyAcc-mad()-Y</th>\n      <th>tBodyAcc-mad()-Z</th>\n      <th>tBodyAcc-max()-X</th>\n      <th>...</th>\n      <th>fBodyBodyGyroJerkMag-kurtosis()</th>\n      <th>angle(tBodyAccMean,gravity)</th>\n      <th>angle(tBodyAccJerkMean),gravityMean)</th>\n      <th>angle(tBodyGyroMean,gravityMean)</th>\n      <th>angle(tBodyGyroJerkMean,gravityMean)</th>\n      <th>angle(X,gravityMean)</th>\n      <th>angle(Y,gravityMean)</th>\n      <th>angle(Z,gravityMean)</th>\n      <th>subject</th>\n      <th>Activity</th>\n    </tr>\n  </thead>\n  <tbody>\n    <tr>\n      <th>0</th>\n      <td>0.257178</td>\n      <td>-0.023285</td>\n      <td>-0.014654</td>\n      <td>-0.938404</td>\n      <td>-0.920091</td>\n      <td>-0.667683</td>\n      <td>-0.952501</td>\n      <td>-0.925249</td>\n      <td>-0.674302</td>\n      <td>-0.894088</td>\n      <td>...</td>\n      <td>-0.705974</td>\n      <td>0.006462</td>\n      <td>0.162920</td>\n      <td>-0.825886</td>\n      <td>0.271151</td>\n      <td>-0.720009</td>\n      <td>0.276801</td>\n      <td>-0.057978</td>\n      <td>2</td>\n      <td>STANDING</td>\n    </tr>\n    <tr>\n      <th>1</th>\n      <td>0.286027</td>\n      <td>-0.013163</td>\n      <td>-0.119083</td>\n      <td>-0.975415</td>\n      <td>-0.967458</td>\n      <td>-0.944958</td>\n      <td>-0.986799</td>\n      <td>-0.968401</td>\n      <td>-0.945823</td>\n      <td>-0.894088</td>\n      <td>...</td>\n      <td>-0.594944</td>\n      <td>-0.083495</td>\n      <td>0.017500</td>\n      <td>-0.434375</td>\n      <td>0.920593</td>\n      <td>-0.698091</td>\n      <td>0.281343</td>\n      <td>-0.083898</td>\n      <td>2</td>\n      <td>STANDING</td>\n    </tr>\n    <tr>\n      <th>2</th>\n      <td>0.275485</td>\n      <td>-0.026050</td>\n      <td>-0.118152</td>\n      <td>-0.993819</td>\n      <td>-0.969926</td>\n      <td>-0.962748</td>\n      <td>-0.994403</td>\n      <td>-0.970735</td>\n      <td>-0.963483</td>\n      <td>-0.939260</td>\n      <td>...</td>\n      <td>-0.640736</td>\n      <td>-0.034956</td>\n      <td>0.202302</td>\n      <td>0.064103</td>\n      <td>0.145068</td>\n      <td>-0.702771</td>\n      <td>0.280083</td>\n      <td>-0.079346</td>\n      <td>2</td>\n      <td>STANDING</td>\n    </tr>\n    <tr>\n      <th>3</th>\n      <td>0.270298</td>\n      <td>-0.032614</td>\n      <td>-0.117520</td>\n      <td>-0.994743</td>\n      <td>-0.973268</td>\n      <td>-0.967091</td>\n      <td>-0.995274</td>\n      <td>-0.974471</td>\n      <td>-0.968897</td>\n      <td>-0.938610</td>\n      <td>...</td>\n      <td>-0.736124</td>\n      <td>-0.017067</td>\n      <td>0.154438</td>\n      <td>0.340134</td>\n      <td>0.296407</td>\n      <td>-0.698954</td>\n      <td>0.284114</td>\n      <td>-0.077108</td>\n      <td>2</td>\n      <td>STANDING</td>\n    </tr>\n    <tr>\n      <th>4</th>\n      <td>0.274833</td>\n      <td>-0.027848</td>\n      <td>-0.129527</td>\n      <td>-0.993852</td>\n      <td>-0.967445</td>\n      <td>-0.978295</td>\n      <td>-0.994111</td>\n      <td>-0.965953</td>\n      <td>-0.977346</td>\n      <td>-0.938610</td>\n      <td>...</td>\n      <td>-0.846595</td>\n      <td>-0.002223</td>\n      <td>-0.040046</td>\n      <td>0.736715</td>\n      <td>-0.118545</td>\n      <td>-0.692245</td>\n      <td>0.290722</td>\n      <td>-0.073857</td>\n      <td>2</td>\n      <td>STANDING</td>\n    </tr>\n  </tbody>\n</table>\n<p>5 rows × 563 columns</p>\n</div>"
          },
          "metadata": {}
        }
      ]
    },
    {
      "cell_type": "code",
      "source": "temp_train = train_data.drop(\"subject\", axis=1)\ntest_data = test_data.drop(\"subject\", axis=1)",
      "metadata": {
        "trusted": true
      },
      "execution_count": 23,
      "outputs": []
    },
    {
      "cell_type": "code",
      "source": "encoder = LabelEncoder()\nencoder = encoder.fit(temp_train['Activity'])\ny_train = encoder.transform(temp_train['Activity'])\ny_test = encoder.transform(test_data['Activity'])",
      "metadata": {
        "trusted": true
      },
      "execution_count": 24,
      "outputs": []
    },
    {
      "cell_type": "code",
      "source": "x_train = temp_train.drop(\"Activity\", axis=1)\nx_test = test_data.drop(\"Activity\", axis=1)",
      "metadata": {
        "trusted": true
      },
      "execution_count": 25,
      "outputs": []
    },
    {
      "cell_type": "code",
      "source": "knn_model = KNeighborsClassifier(n_neighbors=5)  # You can adjust the number of neighbors as needed\nknn_model.fit(x_train, y_train)\ny_pred_knn = knn_model.predict(x_test)",
      "metadata": {
        "trusted": true
      },
      "execution_count": 33,
      "outputs": []
    },
    {
      "cell_type": "code",
      "source": "accuracy_knn = accuracy_score(y_test, y_pred_knn)\n\nprint(f'Accuracy of KNN: {accuracy_knn}')",
      "metadata": {
        "trusted": true
      },
      "execution_count": 34,
      "outputs": [
        {
          "name": "stdout",
          "text": "Accuracy of KNN: 0.876088139281828\n",
          "output_type": "stream"
        }
      ]
    },
    {
      "cell_type": "code",
      "source": "",
      "metadata": {},
      "execution_count": null,
      "outputs": []
    }
  ]
}